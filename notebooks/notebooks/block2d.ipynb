{
 "cells": [
  {
   "cell_type": "code",
   "execution_count": 1,
   "metadata": {},
   "outputs": [
    {
     "data": {
      "image/png": "[encoded data removed]",
      "text/plain": [
       "<Figure size 640x480 with 1 Axes>"
      ]
     },
     "metadata": {},
     "output_type": "display_data"
    },
    {
     "data": {
      "text/plain": [
       "<matplotlib.animation.FuncAnimation at 0x17fb5e7ff50>"
      ]
     },
     "execution_count": 1,
     "metadata": {},
     "output_type": "execute_result"
    }
   ],
   "source": [
    "import cellpylib as cpl\n",
    "import numpy as np\n",
    "\n",
    "\"\"\"\n",
    "2D Block CA from \n",
    "https://writings.stephenwolfram.com/2023/02/computational-foundations-for-the-second-law-of-thermodynamics/\n",
    "\"\"\"\n",
    "\n",
    "initial_conditions = np.array([[\n",
    "    [1, 1, 1, 1, 1, 1, 1, 1, 1, 1, 1, 1, 1, 1, 1, 1, 1, 1],\n",
    "    [1, 0, 0, 0, 0, 0, 0, 0, 0, 0, 0, 0, 0, 0, 0, 0, 0, 1],\n",
    "    [1, 0, 2, 0, 2, 0, 2, 0, 2, 0, 0, 0, 0, 0, 0, 0, 0, 1],\n",
    "    [1, 0, 0, 0, 0, 0, 0, 0, 0, 0, 0, 0, 0, 0, 0, 0, 0, 1],\n",
    "    [1, 0, 2, 0, 2, 0, 2, 0, 2, 0, 0, 0, 0, 0, 0, 0, 0, 1],\n",
    "    [1, 0, 0, 0, 0, 0, 0, 0, 0, 0, 0, 0, 0, 0, 0, 0, 0, 1],\n",
    "    [1, 0, 2, 0, 2, 0, 2, 0, 2, 0, 0, 0, 0, 0, 0, 0, 0, 1],\n",
    "    [1, 0, 0, 0, 0, 0, 0, 0, 0, 0, 0, 0, 0, 0, 0, 0, 0, 1],\n",
    "    [1, 0, 2, 0, 2, 0, 2, 0, 2, 0, 0, 0, 0, 0, 0, 0, 0, 1],\n",
    "    [1, 0, 0, 0, 0, 0, 0, 0, 0, 0, 0, 0, 0, 0, 0, 0, 0, 1],\n",
    "    [1, 0, 0, 0, 0, 0, 0, 0, 0, 0, 0, 0, 0, 0, 0, 0, 0, 1],\n",
    "    [1, 0, 0, 0, 0, 0, 0, 0, 0, 0, 0, 0, 0, 0, 0, 0, 0, 1],\n",
    "    [1, 0, 0, 0, 0, 0, 0, 0, 0, 0, 0, 0, 0, 0, 0, 0, 0, 1],\n",
    "    [1, 0, 0, 0, 0, 0, 0, 0, 0, 0, 0, 0, 0, 0, 0, 0, 0, 1],\n",
    "    [1, 0, 0, 0, 0, 0, 0, 0, 0, 0, 0, 0, 0, 0, 0, 0, 0, 1],\n",
    "    [1, 0, 0, 0, 0, 0, 0, 0, 0, 0, 0, 0, 0, 0, 0, 0, 0, 1],\n",
    "    [1, 0, 0, 0, 0, 0, 0, 0, 0, 0, 0, 0, 0, 0, 0, 0, 0, 1],\n",
    "    [1, 1, 1, 1, 1, 1, 1, 1, 1, 1, 1, 1, 1, 1, 1, 1, 1, 1],\n",
    "]])\n",
    "\n",
    "\n",
    "def make_block2d_rule():\n",
    "    base_rules = {\n",
    "        ((0, 0), (0, 0)): ((0, 0), (0, 0)),\n",
    "        ((0, 0), (0, 2)): ((2, 0), (0, 0)),\n",
    "        ((2, 0), (0, 0)): ((0, 0), (0, 2)),\n",
    "        ((0, 0), (2, 0)): ((0, 2), (0, 0)),\n",
    "        ((0, 2), (0, 0)): ((0, 0), (2, 0)),\n",
    "        ((0, 0), (2, 2)): ((2, 2), (0, 0)),\n",
    "        ((2, 2), (0, 0)): ((0, 0), (2, 2)),\n",
    "        ((0, 2), (0, 2)): ((2, 0), (2, 0)),\n",
    "        ((2, 0), (2, 0)): ((0, 2), (0, 2)),\n",
    "        ((0, 2), (2, 0)): ((2, 0), (0, 2)),\n",
    "        ((2, 0), (0, 2)): ((0, 2), (2, 0)),\n",
    "        ((0, 2), (2, 2)): ((2, 2), (2, 0)),\n",
    "        ((2, 2), (2, 0)): ((0, 2), (2, 2)),\n",
    "        ((2, 0), (2, 2)): ((2, 2), (0, 2)),\n",
    "        ((2, 2), (0, 2)): ((2, 0), (2, 2)),\n",
    "        ((2, 2), (2, 2)): ((2, 2), (2, 2)),\n",
    "        # wall rules\n",
    "        ((0, 0), (1, 1)): ((0, 0), (1, 1)),\n",
    "        ((0, 1), (1, 1)): ((0, 1), (1, 1)),\n",
    "        ((0, 2), (1, 1)): ((2, 0), (1, 1)),\n",
    "        ((2, 0), (1, 1)): ((0, 2), (1, 1)),\n",
    "        ((2, 1), (1, 1)): ((2, 1), (1, 1)),\n",
    "        ((2, 2), (1, 1)): ((2, 2), (1, 1)),\n",
    "        ((1, 1), (1, 1)): ((1, 1), (1, 1)),\n",
    "    }\n",
    "    rules = {}\n",
    "    # add rotations\n",
    "    for r, v in base_rules.items():\n",
    "        rules[r] = v\n",
    "        for _ in range(3):\n",
    "            r = ((r[1][0], r[0][0]), (r[1][1], r[0][1]))\n",
    "            v = ((v[1][0], v[0][0]), (v[1][1], v[0][1]))\n",
    "            if r not in rules:\n",
    "                rules[r] = v\n",
    "    def _apply_rule(n, t):\n",
    "        n = tuple(tuple(i) for i in n)\n",
    "        return rules[n]\n",
    "    return _apply_rule\n",
    "\n",
    "\n",
    "ca = cpl.evolve2d_block(initial_conditions, block_size=(2, 2),\n",
    "                        timesteps=40, apply_rule=make_block2d_rule())\n",
    "\n",
    "cpl.plot2d_animate(ca)\n"
   ]
  },
  {
   "cell_type": "code",
   "execution_count": 3,
   "metadata": {},
   "outputs": [
    {
     "data": {
      "image/png": "[encoded data removed]",
      "text/plain": [
       "<Figure size 640x480 with 1 Axes>"
      ]
     },
     "metadata": {},
     "output_type": "display_data"
    },
    {
     "data": {
      "text/plain": [
       "<matplotlib.animation.FuncAnimation at 0x17fb8845ad0>"
      ]
     },
     "execution_count": 3,
     "metadata": {},
     "output_type": "execute_result"
    }
   ],
   "source": [
    "import cellpylib as cpl\n",
    "import numpy as np\n",
    "\n",
    "\"\"\"\n",
    "2D Block CA from \n",
    "https://writings.stephenwolfram.com/2023/02/computational-foundations-for-the-second-law-of-thermodynamics/\n",
    "\"\"\"\n",
    "\n",
    "initial_conditions = np.loadtxt('block2d_rotated_initial_conditions.txt', dtype=int)\n",
    "initial_conditions = np.array([initial_conditions])\n",
    "\n",
    "\n",
    "def make_block2d_rule():\n",
    "    base_rules = {\n",
    "        ((0, 0), (0, 0)): ((0, 0), (0, 0)),\n",
    "        ((0, 0), (0, 2)): ((2, 0), (0, 0)),\n",
    "        ((2, 0), (0, 0)): ((0, 0), (0, 2)),\n",
    "        ((0, 0), (2, 0)): ((0, 2), (0, 0)),\n",
    "        ((0, 2), (0, 0)): ((0, 0), (2, 0)),\n",
    "        ((0, 0), (2, 2)): ((2, 2), (0, 0)),\n",
    "        ((2, 2), (0, 0)): ((0, 0), (2, 2)),\n",
    "        ((0, 2), (0, 2)): ((2, 0), (2, 0)),\n",
    "        ((2, 0), (2, 0)): ((0, 2), (0, 2)),\n",
    "        ((0, 2), (2, 0)): ((2, 0), (0, 2)),\n",
    "        ((2, 0), (0, 2)): ((0, 2), (2, 0)),\n",
    "        ((0, 2), (2, 2)): ((2, 2), (2, 0)),\n",
    "        ((2, 2), (2, 0)): ((0, 2), (2, 2)),\n",
    "        ((2, 0), (2, 2)): ((2, 2), (0, 2)),\n",
    "        ((2, 2), (0, 2)): ((2, 0), (2, 2)),\n",
    "        ((2, 2), (2, 2)): ((2, 2), (2, 2)),\n",
    "        # wall rules\n",
    "        ((0, 0), (1, 1)): ((0, 0), (1, 1)),\n",
    "        ((0, 1), (1, 1)): ((0, 1), (1, 1)),\n",
    "        ((0, 2), (1, 1)): ((2, 0), (1, 1)),\n",
    "        ((2, 0), (1, 1)): ((0, 2), (1, 1)),\n",
    "        ((2, 1), (1, 1)): ((2, 1), (1, 1)),\n",
    "        ((2, 2), (1, 1)): ((2, 2), (1, 1)),\n",
    "        ((1, 1), (1, 1)): ((1, 1), (1, 1)),\n",
    "        ((1, 0), (0, 0)): ((1, 0), (0, 0)),\n",
    "        ((1, 0), (0, 2)): ((1, 0), (0, 2)),\n",
    "    }\n",
    "    rules = {}\n",
    "    # add rotations\n",
    "    for r, v in base_rules.items():\n",
    "        rules[r] = v\n",
    "        for _ in range(3):\n",
    "            r = ((r[1][0], r[0][0]), (r[1][1], r[0][1]))\n",
    "            v = ((v[1][0], v[0][0]), (v[1][1], v[0][1]))\n",
    "            if r not in rules:\n",
    "                rules[r] = v\n",
    "    def _apply_rule(n, t):\n",
    "        n = tuple(tuple(i) for i in n)\n",
    "        return rules[n]\n",
    "    return _apply_rule\n",
    "\n",
    "\n",
    "ca = cpl.evolve2d_block(initial_conditions, block_size=(2, 2),\n",
    "                        timesteps=251, apply_rule=make_block2d_rule())\n",
    "\n",
    "cpl.plot2d_animate(ca)\n"
   ]
  }
 ],
 "metadata": {
  "kernelspec": {
   "display_name": ".env",
   "language": "python",
   "name": "python3"
  },
  "language_info": {
   "codemirror_mode": {
    "name": "ipython",
    "version": 3
   },
   "file_extension": ".py",
   "mimetype": "text/x-python",
   "name": "python",
   "nbconvert_exporter": "python",
   "pygments_lexer": "ipython3",
   "version": "3.11.9"
  }
 },
 "nbformat": 4,
 "nbformat_minor": 2
}
