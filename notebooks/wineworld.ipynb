{
 "cells": [
  {
   "cell_type": "code",
   "execution_count": 1,
   "metadata": {},
   "outputs": [],
   "source": [
    "import os\n",
    "import sys\n",
    "module_path = os.path.abspath(os.path.join('..'))\n",
    "if module_path not in sys.path:\n",
    "    sys.path.append(module_path)"
   ]
  },
  {
   "cell_type": "code",
   "execution_count": 2,
   "metadata": {},
   "outputs": [
    {
     "data": {
      "image/png": "[encoded data removed]",
      "text/plain": [
       "<Figure size 420x390 with 1 Axes>"
      ]
     },
     "metadata": {},
     "output_type": "display_data"
    },
    {
     "data": {
      "text/plain": [
       "<matplotlib.animation.FuncAnimation at 0x1b57fdcb850>"
      ]
     },
     "execution_count": 2,
     "metadata": {},
     "output_type": "execute_result"
    }
   ],
   "source": [
    "import cellpylib as cpl\n",
    "import numpy as np\n",
    "from matplotlib.colors import ListedColormap\n",
    "\n",
    "\n",
    "def wireworld_rule(n, c, t):\n",
    "    current_activity = n[1][1]\n",
    "    if current_activity == 0:  # empty\n",
    "        return 0\n",
    "    if current_activity == 1:  # electron head\n",
    "        return 2\n",
    "    if current_activity == 2:  # electron tail\n",
    "        return 3\n",
    "    if current_activity == 3:  # conductor\n",
    "        electron_head_count = np.count_nonzero(n == 1)\n",
    "        return 1 if electron_head_count == 1 or electron_head_count == 2 else 3\n",
    "\n",
    "\n",
    "cellular_automata = np.array([[\n",
    "    [0, 0, 0, 0, 0, 0, 0, 0, 0, 0, 0, 0, 0, 0],\n",
    "    [0, 0, 0, 0, 0, 0, 0, 0, 0, 0, 0, 0, 0, 0],\n",
    "    [0, 0, 0, 0, 0, 0, 3, 3, 0, 0, 0, 0, 0, 0],\n",
    "    [2, 1, 3, 3, 3, 3, 3, 0, 3, 3, 3, 3, 3, 3],\n",
    "    [0, 0, 0, 0, 0, 0, 3, 3, 0, 0, 0, 0, 0, 0],\n",
    "    [0, 0, 0, 0, 0, 0, 0, 0, 0, 0, 0, 0, 0, 0],\n",
    "    [0, 0, 0, 0, 0, 0, 0, 0, 0, 0, 0, 0, 0, 0],\n",
    "    [0, 0, 0, 0, 0, 0, 0, 0, 0, 0, 0, 0, 0, 0],\n",
    "    [0, 0, 0, 0, 0, 0, 3, 3, 0, 0, 0, 0, 0, 0],\n",
    "    [2, 1, 3, 3, 3, 3, 0, 3, 3, 3, 3, 3, 3, 3],\n",
    "    [0, 0, 0, 0, 0, 0, 3, 3, 0, 0, 0, 0, 0, 0],\n",
    "    [0, 0, 0, 0, 0, 0, 0, 0, 0, 0, 0, 0, 0, 0],\n",
    "    [0, 0, 0, 0, 0, 0, 0, 0, 0, 0, 0, 0, 0, 0]\n",
    "]])\n",
    "\n",
    "cellular_automata = cpl.evolve2d(cellular_automata, timesteps=15,\n",
    "                                 apply_rule=wireworld_rule, neighbourhood=\"Moore\")\n",
    "\n",
    "cpl.plot2d_animate(cellular_automata, show_grid=True, show_margin=False, scale=0.3,\n",
    "                   colormap=ListedColormap([\"black\", \"blue\", \"red\", \"yellow\"]))"
   ]
  },
  {
   "cell_type": "code",
   "execution_count": 3,
   "metadata": {},
   "outputs": [
    {
     "data": {
      "image/png": "[encoded data removed]",
      "text/plain": [
       "<Figure size 720x390 with 1 Axes>"
      ]
     },
     "metadata": {},
     "output_type": "display_data"
    },
    {
     "data": {
      "text/plain": [
       "<matplotlib.animation.FuncAnimation at 0x1b513613590>"
      ]
     },
     "execution_count": 3,
     "metadata": {},
     "output_type": "execute_result"
    }
   ],
   "source": [
    "import cellpylib as cpl\n",
    "import numpy as np\n",
    "from matplotlib.colors import ListedColormap\n",
    "\n",
    "\n",
    "def wireworld_rule(n, c, t):\n",
    "    current_activity = n[1][1]\n",
    "    if current_activity == 0:  # empty\n",
    "        return 0\n",
    "    if current_activity == 1:  # electron head\n",
    "        return 2\n",
    "    if current_activity == 2:  # electron tail\n",
    "        return 3\n",
    "    if current_activity == 3:  # conductor\n",
    "        electron_head_count = np.count_nonzero(n == 1)\n",
    "        return 1 if electron_head_count == 1 or electron_head_count == 2 else 3\n",
    "\n",
    "\n",
    "cellular_automata = np.array([[\n",
    "    [0, 0, 0, 0, 0, 0, 0, 0, 0, 0, 0, 0, 0, 0, 0, 0, 0, 0, 0, 0, 0, 0, 0, 0],\n",
    "    [0, 0, 0, 0, 0, 0, 0, 0, 0, 0, 0, 0, 0, 0, 0, 0, 0, 0, 0, 0, 0, 0, 0, 0],\n",
    "    [0, 0, 0, 3, 3, 3, 3, 3, 3, 3, 3, 0, 0, 0, 0, 0, 0, 0, 0, 0, 0, 0, 0, 0],\n",
    "    [0, 0, 3, 0, 0, 0, 0, 0, 0, 0, 0, 2, 1, 3, 3, 3, 3, 0, 0, 0, 0, 0, 0, 0],\n",
    "    [0, 0, 0, 3, 1, 2, 3, 3, 3, 3, 1, 0, 0, 0, 0, 0, 0, 2, 0, 0, 0, 0, 0, 0],\n",
    "    [0, 0, 0, 0, 0, 0, 0, 0, 0, 0, 0, 0, 0, 0, 0, 0, 1, 1, 1, 3, 0, 0, 0, 0],\n",
    "    [0, 0, 0, 0, 0, 0, 0, 0, 0, 0, 0, 0, 0, 0, 0, 0, 3, 0, 0, 3, 3, 3, 3, 2],\n",
    "    [0, 0, 0, 0, 0, 0, 0, 0, 0, 0, 0, 0, 0, 0, 0, 0, 3, 3, 3, 3, 0, 0, 0, 0],\n",
    "    [0, 0, 0, 3, 3, 2, 1, 3, 3, 3, 3, 0, 0, 0, 0, 0, 0, 3, 0, 0, 0, 0, 0, 0],\n",
    "    [0, 0, 3, 0, 0, 0, 0, 0, 0, 0, 0, 2, 1, 3, 3, 3, 3, 0, 0, 0, 0, 0, 0, 0],\n",
    "    [0, 0, 0, 3, 3, 3, 3, 3, 3, 3, 1, 0, 0, 0, 0, 0, 0, 0, 0, 0, 0, 0, 0, 0],\n",
    "    [0, 0, 0, 0, 0, 0, 0, 0, 0, 0, 0, 0, 0, 0, 0, 0, 0, 0, 0, 0, 0, 0, 0, 0],\n",
    "    [0, 0, 0, 0, 0, 0, 0, 0, 0, 0, 0, 0, 0, 0, 0, 0, 0, 0, 0, 0, 0, 0, 0, 0]\n",
    "]])\n",
    "\n",
    "cellular_automata = cpl.evolve2d(cellular_automata, timesteps=25,\n",
    "                                 apply_rule=wireworld_rule, neighbourhood=\"Moore\")\n",
    "\n",
    "cpl.plot2d_animate(cellular_automata, show_grid=True, show_margin=False, scale=0.3,\n",
    "                   colormap=ListedColormap([\"black\", \"blue\", \"red\", \"yellow\"]))\n"
   ]
  }
 ],
 "metadata": {
  "kernelspec": {
   "display_name": ".env",
   "language": "python",
   "name": "python3"
  },
  "language_info": {
   "codemirror_mode": {
    "name": "ipython",
    "version": 3
   },
   "file_extension": ".py",
   "mimetype": "text/x-python",
   "name": "python",
   "nbconvert_exporter": "python",
   "pygments_lexer": "ipython3",
   "version": "3.11.9"
  }
 },
 "nbformat": 4,
 "nbformat_minor": 2
}
