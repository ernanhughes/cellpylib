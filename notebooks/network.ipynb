{
 "cells": [
  {
   "cell_type": "code",
   "execution_count": 1,
   "metadata": {},
   "outputs": [],
   "source": [
    "import os\n",
    "import sys\n",
    "module_path = os.path.abspath(os.path.join('..'))\n",
    "if module_path not in sys.path:\n",
    "    sys.path.append(module_path)"
   ]
  },
  {
   "cell_type": "code",
   "execution_count": 2,
   "metadata": {},
   "outputs": [
    {
     "data": {
      "image/png": "[encoded data removed]",
      "text/plain": [
       "<Figure size 640x480 with 1 Axes>"
      ]
     },
     "metadata": {},
     "output_type": "display_data"
    },
    {
     "data": {
      "image/png": "[encoded data removed]",
      "text/plain": [
       "<Figure size 640x480 with 1 Axes>"
      ]
     },
     "metadata": {},
     "output_type": "display_data"
    },
    {
     "data": {
      "text/plain": [
       "<matplotlib.animation.FuncAnimation at 0x22f6718fd90>"
      ]
     },
     "execution_count": 2,
     "metadata": {},
     "output_type": "execute_result"
    }
   ],
   "source": [
    "import numpy as np\n",
    "\n",
    "import cellpylib as cpl\n",
    "\n",
    "\"\"\"\n",
    "Based on: http://neupy.com/2015/09/20/discrete_hopfield_network.html\n",
    "\"\"\"\n",
    "# patterns for training\n",
    "zero = [\n",
    "    0, 1, 1, 1, 0,\n",
    "    1, 0, 0, 0, 1,\n",
    "    1, 0, 0, 0, 1,\n",
    "    1, 0, 0, 0, 1,\n",
    "    1, 0, 0, 0, 1,\n",
    "    0, 1, 1, 1, 0,\n",
    "    0, 0, 0, 0, 0] # we add this last row so that we get an odd number of\n",
    "                   #  total cells, so that we can specify a radius that includes exactly all the cells\n",
    "one = [\n",
    "    0, 1, 1, 0, 0,\n",
    "    0, 0, 1, 0, 0,\n",
    "    0, 0, 1, 0, 0,\n",
    "    0, 0, 1, 0, 0,\n",
    "    0, 0, 1, 0, 0,\n",
    "    0, 0, 1, 0, 0,\n",
    "    0, 0, 0, 0, 0]\n",
    "\n",
    "two = [\n",
    "    1, 1, 1, 0, 0,\n",
    "    0, 0, 0, 1, 0,\n",
    "    0, 0, 0, 1, 0,\n",
    "    0, 1, 1, 0, 0,\n",
    "    1, 0, 0, 0, 0,\n",
    "    1, 1, 1, 1, 1,\n",
    "    0, 0, 0, 0, 0]\n",
    "# replace the zeroes with -1 to make these vectors bipolar instead of binary\n",
    "one = [-1 if x == 0 else x for x in one]\n",
    "two = [-1 if x == 0 else x for x in two]\n",
    "zero = [-1 if x == 0 else x for x in zero]\n",
    "\n",
    "P = [zero, one, two]\n",
    "\n",
    "# patterns to evaluate\n",
    "half_zero = [\n",
    "    0, 1, 1, 1, 0,\n",
    "    1, 0, 0, 0, 1,\n",
    "    1, 0, 0, 0, 1,\n",
    "    0, 0, 0, 0, 0,\n",
    "    0, 0, 0, 0, 0,\n",
    "    0, 0, 0, 0, 0,\n",
    "    0, 0, 0, 0, 0]\n",
    "\n",
    "half_one = [\n",
    "    0, 0, 1, 0, 0,\n",
    "    0, 0, 1, 0, 0,\n",
    "    0, 0, 1, 0, 0,\n",
    "    0, 0, 1, 0, 0,\n",
    "    0, 0, 0, 0, 0,\n",
    "    0, 0, 0, 0, 0,\n",
    "    0, 0, 0, 0, 0]\n",
    "\n",
    "half_two = [\n",
    "    0, 0, 0, 0, 0,\n",
    "    0, 0, 0, 0, 0,\n",
    "    0, 0, 0, 0, 0,\n",
    "    0, 1, 1, 0, 0,\n",
    "    1, 0, 0, 0, 0,\n",
    "    1, 1, 1, 1, 1,\n",
    "    0, 0, 0, 0, 0]\n",
    "half_zero = [-1 if x == 0 else x for x in half_zero]\n",
    "half_one = [-1 if x == 0 else x for x in half_one]\n",
    "half_two = [-1 if x == 0 else x for x in half_two]\n",
    "\n",
    "cellular_automaton = np.array([half_two])\n",
    "\n",
    "hopfield_net = cpl.HopfieldNet(num_cells=35)\n",
    "\n",
    "hopfield_net.train(P)\n",
    "\n",
    "cellular_automaton = cpl.evolve(cellular_automaton, timesteps=155,\n",
    "                                apply_rule=hopfield_net.apply_rule, r=hopfield_net.r)\n",
    "\n",
    "cpl.plot(hopfield_net.W)\n",
    "cpl.plot2d_animate(np.reshape(cellular_automaton, (155, 7, 5)))\n"
   ]
  }
 ],
 "metadata": {
  "kernelspec": {
   "display_name": ".env",
   "language": "python",
   "name": "python3"
  },
  "language_info": {
   "codemirror_mode": {
    "name": "ipython",
    "version": 3
   },
   "file_extension": ".py",
   "mimetype": "text/x-python",
   "name": "python",
   "nbconvert_exporter": "python",
   "pygments_lexer": "ipython3",
   "version": "3.11.9"
  }
 },
 "nbformat": 4,
 "nbformat_minor": 2
}
